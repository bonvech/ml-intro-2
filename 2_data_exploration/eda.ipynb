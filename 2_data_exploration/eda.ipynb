{
 "cells": [
  {
   "cell_type": "markdown",
   "source": "# Задание 2 - Descriptive Statistics and Data Exploration\nPerform data exploration and visualization without using the pandas_profiling library.\n\n    https://github.com/rolling-scopes-school/ml-intro/tree/2022/2_data_exploration\n    https://www.kaggle.com/c/tabular-playground-series-apr-2021/data?select=train.csv",
   "metadata": {
    "tags": [],
    "cell_id": "5d50a52e-9f6b-4384-bcbf-08d6583215c3",
    "deepnote_cell_type": "markdown"
   }
  },
  {
   "cell_type": "code",
   "metadata": {
    "tags": [],
    "deepnote_to_be_reexecuted": false,
    "source_hash": "69b9df31",
    "execution_start": 1646647417192,
    "execution_millis": 1470,
    "cell_id": "00001-29720a74-d528-4bfb-9130-d839f08673e2",
    "deepnote_cell_type": "code"
   },
   "source": "## library input\nimport pandas as pd\nimport seaborn as sns\npd.__version__",
   "outputs": [
    {
     "output_type": "execute_result",
     "execution_count": 27,
     "data": {
      "text/plain": "'1.2.5'"
     },
     "metadata": {}
    }
   ],
   "execution_count": null
  },
  {
   "cell_type": "markdown",
   "source": "### Цель работы\nПровести анализ набора данных для выявления закономерностей и выработки гипотез. \n\nПосмотреть, какие признаки больше всего влияют на целевую переменную, а какие можно выбросить из рассмотрения.",
   "metadata": {
    "tags": [],
    "cell_id": "00002-6b701017-9862-4d44-95c2-ced761405b53",
    "deepnote_cell_type": "markdown"
   }
  },
  {
   "cell_type": "markdown",
   "source": "# Context",
   "metadata": {
    "cell_id": "00003-5845b17d-e578-4c84-82d7-a84cc4b00743",
    "deepnote_cell_type": "markdown"
   }
  },
  {
   "cell_type": "markdown",
   "source": "The dataset is synthetic but based on a real dataset (in this case, the actual Titanic data!) and generated using a CTGAN. The statistical properties of this dataset are very similar to the original Titanic dataset.\n\nhttps://www.kaggle.com/c/tabular-playground-series-apr-2021/data?select=train.csv\n\n",
   "metadata": {
    "tags": [],
    "cell_id": "00004-0be632a5-e503-4190-8c15-9d7de14ca2ae",
    "deepnote_cell_type": "markdown"
   }
  },
  {
   "cell_type": "markdown",
   "source": "**Data Dictionary**\n\n    Variable\tDefinition\t                        Key\n    survival\tSurvival\t                        0 = No, 1 = Yes\n    pclass          Ticket class                            1 = 1st, 2 = 2nd, 3 = 3rd\n    sex     \tSex\t\n    Age\t        Age in years\t\n    sibsp           # of siblings / spouses aboard the Titanic\t\n    parch\t        # of parents / children aboard the Titanic\t\n    ticket\t        Ticket number\t\n    fare\t        Passenger fare\t\n    cabin\t        Cabin number\t\n    embarked\tPort of Embarkation\t                C = Cherbourg, Q = Queenstown, S = Southampton\n\n\n**Variable Notes**\n\n    pclass: A proxy for socio-economic status (SES)\n    1st = Upper\n    2nd = Middle\n    3rd = Lower\n\n    age: Age is fractional if less than 1. If the age is estimated, is it in the form of xx.5\n\n    sibsp: The dataset defines family relations in this way...\n    Sibling = brother, sister, stepbrother, stepsister\n    Spouse = husband, wife (mistresses and fiancés were ignored)\n\n    parch: The dataset defines family relations in this way...\n    Parent = mother, father\n    Child = daughter, son, stepdaughter, stepson\n    Some children travelled only with a nanny, therefore parch=0 for them.",
   "metadata": {
    "tags": [],
    "cell_id": "00005-a144c58b-c857-4e14-a0c4-745c429357f1",
    "deepnote_cell_type": "markdown"
   }
  },
  {
   "cell_type": "code",
   "metadata": {
    "deepnote_to_be_reexecuted": false,
    "source_hash": "5bd47d99",
    "execution_start": 1646642683900,
    "execution_millis": 378,
    "cell_id": "00006-b1f84454-58d5-4168-9638-7af7f3ab3621",
    "deepnote_cell_type": "code"
   },
   "source": "df = pd.read_csv('train.csv')\nprint(df.shape)\ndf.head()",
   "outputs": [
    {
     "name": "stdout",
     "text": "(100000, 12)\n",
     "output_type": "stream"
    },
    {
     "output_type": "execute_result",
     "execution_count": 4,
     "data": {
      "application/vnd.deepnote.dataframe.v3+json": {
       "column_count": 12,
       "row_count": 5,
       "columns": [
        {
         "name": "PassengerId",
         "dtype": "int64",
         "stats": {
          "unique_count": 5,
          "nan_count": 0,
          "min": "0",
          "max": "4",
          "histogram": [
           {
            "bin_start": 0,
            "bin_end": 0.4,
            "count": 1
           },
           {
            "bin_start": 0.4,
            "bin_end": 0.8,
            "count": 0
           },
           {
            "bin_start": 0.8,
            "bin_end": 1.2000000000000002,
            "count": 1
           },
           {
            "bin_start": 1.2000000000000002,
            "bin_end": 1.6,
            "count": 0
           },
           {
            "bin_start": 1.6,
            "bin_end": 2,
            "count": 0
           },
           {
            "bin_start": 2,
            "bin_end": 2.4000000000000004,
            "count": 1
           },
           {
            "bin_start": 2.4000000000000004,
            "bin_end": 2.8000000000000003,
            "count": 0
           },
           {
            "bin_start": 2.8000000000000003,
            "bin_end": 3.2,
            "count": 1
           },
           {
            "bin_start": 3.2,
            "bin_end": 3.6,
            "count": 0
           },
           {
            "bin_start": 3.6,
            "bin_end": 4,
            "count": 1
           }
          ]
         }
        },
        {
         "name": "Survived",
         "dtype": "int64",
         "stats": {
          "unique_count": 2,
          "nan_count": 0,
          "min": "0",
          "max": "1",
          "histogram": [
           {
            "bin_start": 0,
            "bin_end": 0.1,
            "count": 3
           },
           {
            "bin_start": 0.1,
            "bin_end": 0.2,
            "count": 0
           },
           {
            "bin_start": 0.2,
            "bin_end": 0.30000000000000004,
            "count": 0
           },
           {
            "bin_start": 0.30000000000000004,
            "bin_end": 0.4,
            "count": 0
           },
           {
            "bin_start": 0.4,
            "bin_end": 0.5,
            "count": 0
           },
           {
            "bin_start": 0.5,
            "bin_end": 0.6000000000000001,
            "count": 0
           },
           {
            "bin_start": 0.6000000000000001,
            "bin_end": 0.7000000000000001,
            "count": 0
           },
           {
            "bin_start": 0.7000000000000001,
            "bin_end": 0.8,
            "count": 0
           },
           {
            "bin_start": 0.8,
            "bin_end": 0.9,
            "count": 0
           },
           {
            "bin_start": 0.9,
            "bin_end": 1,
            "count": 2
           }
          ]
         }
        },
        {
         "name": "Pclass",
         "dtype": "int64",
         "stats": {
          "unique_count": 2,
          "nan_count": 0,
          "min": "1",
          "max": "3",
          "histogram": [
           {
            "bin_start": 1,
            "bin_end": 1.2,
            "count": 1
           },
           {
            "bin_start": 1.2,
            "bin_end": 1.4,
            "count": 0
           },
           {
            "bin_start": 1.4,
            "bin_end": 1.6,
            "count": 0
           },
           {
            "bin_start": 1.6,
            "bin_end": 1.8,
            "count": 0
           },
           {
            "bin_start": 1.8,
            "bin_end": 2,
            "count": 0
           },
           {
            "bin_start": 2,
            "bin_end": 2.2,
            "count": 0
           },
           {
            "bin_start": 2.2,
            "bin_end": 2.4000000000000004,
            "count": 0
           },
           {
            "bin_start": 2.4000000000000004,
            "bin_end": 2.6,
            "count": 0
           },
           {
            "bin_start": 2.6,
            "bin_end": 2.8,
            "count": 0
           },
           {
            "bin_start": 2.8,
            "bin_end": 3,
            "count": 4
           }
          ]
         }
        },
        {
         "name": "Name",
         "dtype": "object",
         "stats": {
          "unique_count": 5,
          "nan_count": 0,
          "categories": [
           {
            "name": "Oconnor, Frankie",
            "count": 1
           },
           {
            "name": "Bryan, Drew",
            "count": 1
           },
           {
            "name": "3 others",
            "count": 3
           }
          ]
         }
        },
        {
         "name": "Sex",
         "dtype": "object",
         "stats": {
          "unique_count": 1,
          "nan_count": 0,
          "categories": [
           {
            "name": "male",
            "count": 5
           }
          ]
         }
        },
        {
         "name": "Age",
         "dtype": "float64",
         "stats": {
          "unique_count": 3,
          "nan_count": 2,
          "min": "0.33",
          "max": "25.0",
          "histogram": [
           {
            "bin_start": 0.33,
            "bin_end": 2.797,
            "count": 1
           },
           {
            "bin_start": 2.797,
            "bin_end": 5.264,
            "count": 0
           },
           {
            "bin_start": 5.264,
            "bin_end": 7.731,
            "count": 0
           },
           {
            "bin_start": 7.731,
            "bin_end": 10.198,
            "count": 0
           },
           {
            "bin_start": 10.198,
            "bin_end": 12.665000000000001,
            "count": 0
           },
           {
            "bin_start": 12.665000000000001,
            "bin_end": 15.132,
            "count": 0
           },
           {
            "bin_start": 15.132,
            "bin_end": 17.599,
            "count": 0
           },
           {
            "bin_start": 17.599,
            "bin_end": 20.066,
            "count": 1
           },
           {
            "bin_start": 20.066,
            "bin_end": 22.532999999999998,
            "count": 0
           },
           {
            "bin_start": 22.532999999999998,
            "bin_end": 25,
            "count": 1
           }
          ]
         }
        },
        {
         "name": "SibSp",
         "dtype": "int64",
         "stats": {
          "unique_count": 3,
          "nan_count": 0,
          "min": "0",
          "max": "2",
          "histogram": [
           {
            "bin_start": 0,
            "bin_end": 0.2,
            "count": 3
           },
           {
            "bin_start": 0.2,
            "bin_end": 0.4,
            "count": 0
           },
           {
            "bin_start": 0.4,
            "bin_end": 0.6000000000000001,
            "count": 0
           },
           {
            "bin_start": 0.6000000000000001,
            "bin_end": 0.8,
            "count": 0
           },
           {
            "bin_start": 0.8,
            "bin_end": 1,
            "count": 0
           },
           {
            "bin_start": 1,
            "bin_end": 1.2000000000000002,
            "count": 1
           },
           {
            "bin_start": 1.2000000000000002,
            "bin_end": 1.4000000000000001,
            "count": 0
           },
           {
            "bin_start": 1.4000000000000001,
            "bin_end": 1.6,
            "count": 0
           },
           {
            "bin_start": 1.6,
            "bin_end": 1.8,
            "count": 0
           },
           {
            "bin_start": 1.8,
            "bin_end": 2,
            "count": 1
           }
          ]
         }
        },
        {
         "name": "Parch",
         "dtype": "int64",
         "stats": {
          "unique_count": 2,
          "nan_count": 0,
          "min": "0",
          "max": "2",
          "histogram": [
           {
            "bin_start": 0,
            "bin_end": 0.2,
            "count": 4
           },
           {
            "bin_start": 0.2,
            "bin_end": 0.4,
            "count": 0
           },
           {
            "bin_start": 0.4,
            "bin_end": 0.6000000000000001,
            "count": 0
           },
           {
            "bin_start": 0.6000000000000001,
            "bin_end": 0.8,
            "count": 0
           },
           {
            "bin_start": 0.8,
            "bin_end": 1,
            "count": 0
           },
           {
            "bin_start": 1,
            "bin_end": 1.2000000000000002,
            "count": 0
           },
           {
            "bin_start": 1.2000000000000002,
            "bin_end": 1.4000000000000001,
            "count": 0
           },
           {
            "bin_start": 1.4000000000000001,
            "bin_end": 1.6,
            "count": 0
           },
           {
            "bin_start": 1.6,
            "bin_end": 1.8,
            "count": 0
           },
           {
            "bin_start": 1.8,
            "bin_end": 2,
            "count": 1
           }
          ]
         }
        },
        {
         "name": "Ticket",
         "dtype": "object",
         "stats": {
          "unique_count": 5,
          "nan_count": 0,
          "categories": [
           {
            "name": "209245",
            "count": 1
           },
           {
            "name": "27323",
            "count": 1
           },
           {
            "name": "3 others",
            "count": 3
           }
          ]
         }
        },
        {
         "name": "Fare",
         "dtype": "float64",
         "stats": {
          "unique_count": 5,
          "nan_count": 0,
          "min": "7.76",
          "max": "71.29",
          "histogram": [
           {
            "bin_start": 7.76,
            "bin_end": 14.113,
            "count": 3
           },
           {
            "bin_start": 14.113,
            "bin_end": 20.466,
            "count": 0
           },
           {
            "bin_start": 20.466,
            "bin_end": 26.819000000000003,
            "count": 0
           },
           {
            "bin_start": 26.819000000000003,
            "bin_end": 33.172000000000004,
            "count": 1
           },
           {
            "bin_start": 33.172000000000004,
            "bin_end": 39.525000000000006,
            "count": 0
           },
           {
            "bin_start": 39.525000000000006,
            "bin_end": 45.878,
            "count": 0
           },
           {
            "bin_start": 45.878,
            "bin_end": 52.231,
            "count": 0
           },
           {
            "bin_start": 52.231,
            "bin_end": 58.584,
            "count": 0
           },
           {
            "bin_start": 58.584,
            "bin_end": 64.93700000000001,
            "count": 0
           },
           {
            "bin_start": 64.93700000000001,
            "bin_end": 71.29,
            "count": 1
           }
          ]
         }
        },
        {
         "name": "Cabin",
         "dtype": "object",
         "stats": {
          "unique_count": 1,
          "nan_count": 4,
          "categories": [
           {
            "name": "C12239",
            "count": 1
           },
           {
            "name": "Missing",
            "count": 4
           }
          ]
         }
        },
        {
         "name": "Embarked",
         "dtype": "object",
         "stats": {
          "unique_count": 1,
          "nan_count": 0,
          "categories": [
           {
            "name": "S",
            "count": 5
           }
          ]
         }
        },
        {
         "name": "_deepnote_index_column",
         "dtype": "int64"
        }
       ],
       "rows": [
        {
         "PassengerId": 0,
         "Survived": 1,
         "Pclass": 1,
         "Name": "Oconnor, Frankie",
         "Sex": "male",
         "Age": "nan",
         "SibSp": 2,
         "Parch": 0,
         "Ticket": "209245",
         "Fare": 27.14,
         "Cabin": "C12239",
         "Embarked": "S",
         "_deepnote_index_column": 0
        },
        {
         "PassengerId": 1,
         "Survived": 0,
         "Pclass": 3,
         "Name": "Bryan, Drew",
         "Sex": "male",
         "Age": "nan",
         "SibSp": 0,
         "Parch": 0,
         "Ticket": "27323",
         "Fare": 13.35,
         "Cabin": "nan",
         "Embarked": "S",
         "_deepnote_index_column": 1
        },
        {
         "PassengerId": 2,
         "Survived": 0,
         "Pclass": 3,
         "Name": "Owens, Kenneth",
         "Sex": "male",
         "Age": 0.33,
         "SibSp": 1,
         "Parch": 2,
         "Ticket": "CA 457703",
         "Fare": 71.29,
         "Cabin": "nan",
         "Embarked": "S",
         "_deepnote_index_column": 2
        },
        {
         "PassengerId": 3,
         "Survived": 0,
         "Pclass": 3,
         "Name": "Kramer, James",
         "Sex": "male",
         "Age": 19,
         "SibSp": 0,
         "Parch": 0,
         "Ticket": "A. 10866",
         "Fare": 13.04,
         "Cabin": "nan",
         "Embarked": "S",
         "_deepnote_index_column": 3
        },
        {
         "PassengerId": 4,
         "Survived": 1,
         "Pclass": 3,
         "Name": "Bond, Michael",
         "Sex": "male",
         "Age": 25,
         "SibSp": 0,
         "Parch": 0,
         "Ticket": "427635",
         "Fare": 7.76,
         "Cabin": "nan",
         "Embarked": "S",
         "_deepnote_index_column": 4
        }
       ]
      },
      "text/plain": "   PassengerId  Survived  Pclass              Name   Sex    Age  SibSp  Parch  \\\n0            0         1       1  Oconnor, Frankie  male    NaN      2      0   \n1            1         0       3       Bryan, Drew  male    NaN      0      0   \n2            2         0       3    Owens, Kenneth  male   0.33      1      2   \n3            3         0       3     Kramer, James  male  19.00      0      0   \n4            4         1       3     Bond, Michael  male  25.00      0      0   \n\n      Ticket   Fare   Cabin Embarked  \n0     209245  27.14  C12239        S  \n1      27323  13.35     NaN        S  \n2  CA 457703  71.29     NaN        S  \n3   A. 10866  13.04     NaN        S  \n4     427635   7.76     NaN        S  ",
      "text/html": "<div>\n<style scoped>\n    .dataframe tbody tr th:only-of-type {\n        vertical-align: middle;\n    }\n\n    .dataframe tbody tr th {\n        vertical-align: top;\n    }\n\n    .dataframe thead th {\n        text-align: right;\n    }\n</style>\n<table border=\"1\" class=\"dataframe\">\n  <thead>\n    <tr style=\"text-align: right;\">\n      <th></th>\n      <th>PassengerId</th>\n      <th>Survived</th>\n      <th>Pclass</th>\n      <th>Name</th>\n      <th>Sex</th>\n      <th>Age</th>\n      <th>SibSp</th>\n      <th>Parch</th>\n      <th>Ticket</th>\n      <th>Fare</th>\n      <th>Cabin</th>\n      <th>Embarked</th>\n    </tr>\n  </thead>\n  <tbody>\n    <tr>\n      <th>0</th>\n      <td>0</td>\n      <td>1</td>\n      <td>1</td>\n      <td>Oconnor, Frankie</td>\n      <td>male</td>\n      <td>NaN</td>\n      <td>2</td>\n      <td>0</td>\n      <td>209245</td>\n      <td>27.14</td>\n      <td>C12239</td>\n      <td>S</td>\n    </tr>\n    <tr>\n      <th>1</th>\n      <td>1</td>\n      <td>0</td>\n      <td>3</td>\n      <td>Bryan, Drew</td>\n      <td>male</td>\n      <td>NaN</td>\n      <td>0</td>\n      <td>0</td>\n      <td>27323</td>\n      <td>13.35</td>\n      <td>NaN</td>\n      <td>S</td>\n    </tr>\n    <tr>\n      <th>2</th>\n      <td>2</td>\n      <td>0</td>\n      <td>3</td>\n      <td>Owens, Kenneth</td>\n      <td>male</td>\n      <td>0.33</td>\n      <td>1</td>\n      <td>2</td>\n      <td>CA 457703</td>\n      <td>71.29</td>\n      <td>NaN</td>\n      <td>S</td>\n    </tr>\n    <tr>\n      <th>3</th>\n      <td>3</td>\n      <td>0</td>\n      <td>3</td>\n      <td>Kramer, James</td>\n      <td>male</td>\n      <td>19.00</td>\n      <td>0</td>\n      <td>0</td>\n      <td>A. 10866</td>\n      <td>13.04</td>\n      <td>NaN</td>\n      <td>S</td>\n    </tr>\n    <tr>\n      <th>4</th>\n      <td>4</td>\n      <td>1</td>\n      <td>3</td>\n      <td>Bond, Michael</td>\n      <td>male</td>\n      <td>25.00</td>\n      <td>0</td>\n      <td>0</td>\n      <td>427635</td>\n      <td>7.76</td>\n      <td>NaN</td>\n      <td>S</td>\n    </tr>\n  </tbody>\n</table>\n</div>"
     },
     "metadata": {}
    }
   ],
   "execution_count": null
  },
  {
   "cell_type": "markdown",
   "source": "# Data quality assessment",
   "metadata": {
    "cell_id": "00007-a7960971-88bb-4601-98aa-aadf1ac1a45d",
    "deepnote_cell_type": "markdown"
   }
  },
  {
   "cell_type": "markdown",
   "source": "    Verifying row count\n    Verifying column count\n    Verifying column types\n    Checking for duplicates\n    Missing data exploration\n    \n    Check if the data is being generated the way you think. \n    Check if data values types corresponds to the feature meaning.\n    Check variables with the same meaning.",
   "metadata": {
    "tags": [],
    "cell_id": "00008-90e9bc00-ebc0-47e3-8f87-e0825202c25f",
    "deepnote_cell_type": "markdown"
   }
  },
  {
   "cell_type": "code",
   "metadata": {
    "tags": [],
    "deepnote_to_be_reexecuted": false,
    "source_hash": "fdb72e4",
    "execution_start": 1646642710856,
    "execution_millis": 4,
    "cell_id": "00009-046f40e0-4dd4-4d36-8345-386846acde2c",
    "deepnote_cell_type": "code"
   },
   "source": "###  Verifying row count, Verifying column count\n##   100000 rows, 12 columns \ndf.shape",
   "outputs": [
    {
     "output_type": "execute_result",
     "execution_count": 5,
     "data": {
      "text/plain": "(100000, 12)"
     },
     "metadata": {}
    }
   ],
   "execution_count": null
  },
  {
   "cell_type": "code",
   "metadata": {
    "tags": [],
    "deepnote_to_be_reexecuted": false,
    "source_hash": "52430027",
    "execution_start": 1646642725150,
    "execution_millis": 6,
    "cell_id": "00010-375c4c18-b0ff-4a91-bf8f-93922b3ff713",
    "deepnote_cell_type": "code"
   },
   "source": "###   Verifying column types\ndf.dtypes",
   "outputs": [
    {
     "output_type": "execute_result",
     "execution_count": 6,
     "data": {
      "text/plain": "PassengerId      int64\nSurvived         int64\nPclass           int64\nName            object\nSex             object\nAge            float64\nSibSp            int64\nParch            int64\nTicket          object\nFare           float64\nCabin           object\nEmbarked        object\ndtype: object"
     },
     "metadata": {}
    }
   ],
   "execution_count": null
  },
  {
   "cell_type": "code",
   "metadata": {
    "tags": [],
    "deepnote_to_be_reexecuted": false,
    "source_hash": "275342",
    "execution_start": 1646642957773,
    "execution_millis": 137,
    "cell_id": "00011-28a0ed1b-22f8-47b1-b1b3-e58604f45b3e",
    "deepnote_cell_type": "code"
   },
   "source": "###   Checking for duplicates\n##    No duplicates found\nprint(df.drop_duplicates().shape)",
   "outputs": [
    {
     "name": "stdout",
     "text": "(100000, 12)\n",
     "output_type": "stream"
    }
   ],
   "execution_count": null
  },
  {
   "cell_type": "markdown",
   "source": "#### Missing data exploration",
   "metadata": {
    "tags": [],
    "cell_id": "00012-5231df32-e9b3-4098-8200-68de513af207",
    "deepnote_cell_type": "markdown"
   }
  },
  {
   "cell_type": "code",
   "metadata": {
    "tags": [],
    "deepnote_to_be_reexecuted": false,
    "source_hash": "85d5c5fb",
    "execution_start": 1646645844049,
    "execution_millis": 260,
    "cell_id": "00013-39fccba0-5360-4497-9194-742a60e11ead",
    "deepnote_cell_type": "code"
   },
   "source": "###  Missing data exploration\ndf.info()",
   "outputs": [
    {
     "name": "stdout",
     "text": "<class 'pandas.core.frame.DataFrame'>\nRangeIndex: 100000 entries, 0 to 99999\nData columns (total 12 columns):\n #   Column       Non-Null Count   Dtype  \n---  ------       --------------   -----  \n 0   PassengerId  100000 non-null  int64  \n 1   Survived     100000 non-null  int64  \n 2   Pclass       100000 non-null  int64  \n 3   Name         100000 non-null  object \n 4   Sex          100000 non-null  object \n 5   Age          96708 non-null   float64\n 6   SibSp        100000 non-null  int64  \n 7   Parch        100000 non-null  int64  \n 8   Ticket       95377 non-null   object \n 9   Fare         99866 non-null   float64\n 10  Cabin        32134 non-null   object \n 11  Embarked     99750 non-null   object \ndtypes: float64(2), int64(5), object(5)\nmemory usage: 9.2+ MB\n",
     "output_type": "stream"
    }
   ],
   "execution_count": null
  },
  {
   "cell_type": "code",
   "metadata": {
    "tags": [],
    "deepnote_to_be_reexecuted": false,
    "source_hash": "f3dd26da",
    "execution_start": 1646649987311,
    "execution_millis": 42,
    "cell_id": "00014-d1801fca-50f0-4b91-a9fa-437d0894219c",
    "deepnote_cell_type": "code"
   },
   "source": "df.isnull().sum()",
   "outputs": [
    {
     "output_type": "execute_result",
     "execution_count": 47,
     "data": {
      "text/plain": "PassengerId        0\nSurvived           0\nPclass             0\nName               0\nSex                0\nAge             3292\nSibSp              0\nParch              0\nTicket          4623\nFare             134\nCabin          67866\nEmbarked         250\ndtype: int64"
     },
     "metadata": {}
    }
   ],
   "execution_count": null
  },
  {
   "cell_type": "markdown",
   "source": "Есть пропущенные данные в возрасте, номере билета, стоимости билета, каюте, месте посадки.\nПока не будем их ничем заполнять и отбрасывать тоже не будем.\n\nПроверим, связаны ли пропуски в разных столбцах.",
   "metadata": {
    "tags": [],
    "cell_id": "00015-1dddb86d-3e74-4891-91ee-790a47d686c2",
    "deepnote_cell_type": "markdown"
   }
  },
  {
   "cell_type": "code",
   "metadata": {
    "tags": [],
    "deepnote_to_be_reexecuted": false,
    "source_hash": "d1bcd287",
    "execution_start": 1646647062087,
    "execution_millis": 51,
    "cell_id": "00016-526b895f-5684-4e3b-9e4a-005cd72e0002",
    "deepnote_cell_type": "code"
   },
   "source": "##  нет строк, в которых отсутствуют все данные одновременно\nprint(df[df['Age'].isna() & df['Ticket'].isna() & \n         df['Cabin'].isna() & df['Embarked'].isna() & \n         df['Fare'].isna()].shape)",
   "outputs": [
    {
     "output_type": "execute_result",
     "execution_count": 22,
     "data": {
      "text/plain": "(0, 12)"
     },
     "metadata": {}
    }
   ],
   "execution_count": null
  },
  {
   "cell_type": "code",
   "metadata": {
    "tags": [],
    "deepnote_to_be_reexecuted": false,
    "source_hash": "db5e5ce5",
    "execution_start": 1646650472732,
    "execution_millis": 2,
    "cell_id": "00017-cdbbe806-654f-467a-9ce1-e65cfec2f882",
    "deepnote_cell_type": "code"
   },
   "source": "###  нет информации о билете, каюте и цене - в 5 случаях\nprint('----- nan in Ticket, Cabin, Fare')\nprint(df[df['Ticket'].isna() & \n         df['Cabin'].isna() & \n         df['Fare'].isna()].shape)",
   "outputs": [
    {
     "name": "stdout",
     "text": "----- nan in Ticket, Cabin, Fare\n(5, 12)\n",
     "output_type": "stream"
    }
   ],
   "execution_count": null
  },
  {
   "cell_type": "code",
   "metadata": {
    "tags": [],
    "deepnote_to_be_reexecuted": false,
    "source_hash": "1c74885a",
    "execution_start": 1646650494321,
    "execution_millis": 17,
    "cell_id": "00018-fda1a0f7-d4d6-4959-9430-32c8eef4dd76",
    "deepnote_cell_type": "code"
   },
   "source": "### отсутсвие возраста бoльше всего пересекается с отсутствием Cabin\ndf[df['Age'].isna()].isnull().sum()",
   "outputs": [
    {
     "output_type": "execute_result",
     "execution_count": 62,
     "data": {
      "text/plain": "PassengerId       0\nSurvived          0\nPclass            0\nName              0\nSex               0\nAge            3292\nSibSp             0\nParch             0\nTicket          156\nFare              5\nCabin          2247\nEmbarked          2\ndtype: int64"
     },
     "metadata": {}
    }
   ],
   "execution_count": null
  },
  {
   "cell_type": "code",
   "metadata": {
    "tags": [],
    "deepnote_to_be_reexecuted": false,
    "source_hash": "a1643205",
    "execution_start": 1646650360894,
    "execution_millis": 275,
    "cell_id": "00019-9c638760-c065-48e0-b89c-4ac25f85ec9a",
    "deepnote_cell_type": "code"
   },
   "source": "missing = ['Age', 'Ticket', 'Cabin', 'Embarked', 'Fare']\nfor feature in missing:\n    print(\"\\n----- \", feature, \"is null -----\")\n    print(df[df[x].isnull()].isnull().sum())",
   "outputs": [
    {
     "name": "stdout",
     "text": "\n-----  Age is null -----\nPassengerId      0\nSurvived         0\nPclass           0\nName             0\nSex              0\nAge              5\nSibSp            0\nParch            0\nTicket           6\nFare           134\nCabin           92\nEmbarked         1\ndtype: int64\n\n-----  Ticket is null -----\nPassengerId      0\nSurvived         0\nPclass           0\nName             0\nSex              0\nAge              5\nSibSp            0\nParch            0\nTicket           6\nFare           134\nCabin           92\nEmbarked         1\ndtype: int64\n\n-----  Cabin is null -----\nPassengerId      0\nSurvived         0\nPclass           0\nName             0\nSex              0\nAge              5\nSibSp            0\nParch            0\nTicket           6\nFare           134\nCabin           92\nEmbarked         1\ndtype: int64\n\n-----  Embarked is null -----\nPassengerId      0\nSurvived         0\nPclass           0\nName             0\nSex              0\nAge              5\nSibSp            0\nParch            0\nTicket           6\nFare           134\nCabin           92\nEmbarked         1\ndtype: int64\n\n-----  Fare is null -----\nPassengerId      0\nSurvived         0\nPclass           0\nName             0\nSex              0\nAge              5\nSibSp            0\nParch            0\nTicket           6\nFare           134\nCabin           92\nEmbarked         1\ndtype: int64\n",
     "output_type": "stream"
    }
   ],
   "execution_count": null
  },
  {
   "cell_type": "markdown",
   "source": "Итог про пропущенные данные\n\n    Отсутствующие данные есть в столбцах 'Age', 'Ticket', 'Cabin', 'Embarked', 'Fare'\n    Нет строк, в которых пропущены все эти данные одновременно.\n    Больше всего отсутствуют данных о каюте - 67866 случаев.\n    Отсутствие данных о возрасте (3292 случаев) больше всего пересекается с отсутствием Cabin (2247 случаев) и Ticket (156 случаев)\n    Отсутствие данных о билете (4623) часто сопровождается отсутствием информации о каюте.\n    Отсутствие данных о цене (134) часто сопровождается отсутствием информации о каюте.\n    Отсутствие данных о месте посадки (250) часто сопровождается отсутствием информации о каюте.\n    Пропуски данных не выглядят скорреллированными.\n",
   "metadata": {
    "tags": [],
    "cell_id": "00020-504b2132-8b21-465e-85a8-853c1d17079b",
    "deepnote_cell_type": "markdown"
   }
  },
  {
   "cell_type": "markdown",
   "source": "# Data exploration",
   "metadata": {
    "cell_id": "00021-6483f396-92b0-4d9e-8116-98e768574f68",
    "deepnote_cell_type": "markdown"
   }
  },
  {
   "cell_type": "markdown",
   "source": "    Understanding the meaning of each variable\n    Data quality checks\n    Visualization of and summary statistics for each variable\n    Assessing the relationship between variables",
   "metadata": {
    "tags": [],
    "cell_id": "00022-bd191097-6880-432a-872f-b47c036bb538",
    "deepnote_cell_type": "markdown"
   }
  },
  {
   "cell_type": "markdown",
   "source": "### Exploring individual variables\n\n    Histograms\n    Boxplots\n    Summary statistics\n    z scores",
   "metadata": {
    "tags": [],
    "cell_id": "00023-dfbb6006-f436-4676-bb22-3c2ffc36c4ee",
    "deepnote_cell_type": "markdown"
   }
  },
  {
   "cell_type": "code",
   "metadata": {
    "tags": [],
    "deepnote_to_be_reexecuted": false,
    "source_hash": "f88152d9",
    "execution_start": 1646645716198,
    "execution_millis": 133,
    "cell_id": "00024-c36a811b-c072-4ee5-88de-176ac10b920a",
    "deepnote_cell_type": "code"
   },
   "source": "### summary statistics\ndf.describe()",
   "outputs": [
    {
     "output_type": "execute_result",
     "execution_count": 9,
     "data": {
      "application/vnd.deepnote.dataframe.v3+json": {
       "column_count": 7,
       "row_count": 8,
       "columns": [
        {
         "name": "PassengerId",
         "dtype": "float64",
         "stats": {
          "unique_count": 7,
          "nan_count": 0,
          "min": "0.0",
          "max": "100000.0",
          "histogram": [
           {
            "bin_start": 0,
            "bin_end": 10000,
            "count": 1
           },
           {
            "bin_start": 10000,
            "bin_end": 20000,
            "count": 0
           },
           {
            "bin_start": 20000,
            "bin_end": 30000,
            "count": 2
           },
           {
            "bin_start": 30000,
            "bin_end": 40000,
            "count": 0
           },
           {
            "bin_start": 40000,
            "bin_end": 50000,
            "count": 2
           },
           {
            "bin_start": 50000,
            "bin_end": 60000,
            "count": 0
           },
           {
            "bin_start": 60000,
            "bin_end": 70000,
            "count": 0
           },
           {
            "bin_start": 70000,
            "bin_end": 80000,
            "count": 1
           },
           {
            "bin_start": 80000,
            "bin_end": 90000,
            "count": 0
           },
           {
            "bin_start": 90000,
            "bin_end": 100000,
            "count": 2
           }
          ]
         }
        },
        {
         "name": "Survived",
         "dtype": "float64",
         "stats": {
          "unique_count": 5,
          "nan_count": 0,
          "min": "0.0",
          "max": "100000.0",
          "histogram": [
           {
            "bin_start": 0,
            "bin_end": 10000,
            "count": 7
           },
           {
            "bin_start": 10000,
            "bin_end": 20000,
            "count": 0
           },
           {
            "bin_start": 20000,
            "bin_end": 30000,
            "count": 0
           },
           {
            "bin_start": 30000,
            "bin_end": 40000,
            "count": 0
           },
           {
            "bin_start": 40000,
            "bin_end": 50000,
            "count": 0
           },
           {
            "bin_start": 50000,
            "bin_end": 60000,
            "count": 0
           },
           {
            "bin_start": 60000,
            "bin_end": 70000,
            "count": 0
           },
           {
            "bin_start": 70000,
            "bin_end": 80000,
            "count": 0
           },
           {
            "bin_start": 80000,
            "bin_end": 90000,
            "count": 0
           },
           {
            "bin_start": 90000,
            "bin_end": 100000,
            "count": 1
           }
          ]
         }
        },
        {
         "name": "Pclass",
         "dtype": "float64",
         "stats": {
          "unique_count": 6,
          "nan_count": 0,
          "min": "0.8377274436072257",
          "max": "100000.0",
          "histogram": [
           {
            "bin_start": 0.8377274436072257,
            "bin_end": 10000.753954699247,
            "count": 7
           },
           {
            "bin_start": 10000.753954699247,
            "bin_end": 20000.670181954883,
            "count": 0
           },
           {
            "bin_start": 20000.670181954883,
            "bin_end": 30000.586409210522,
            "count": 0
           },
           {
            "bin_start": 30000.586409210522,
            "bin_end": 40000.50263646616,
            "count": 0
           },
           {
            "bin_start": 40000.50263646616,
            "bin_end": 50000.4188637218,
            "count": 0
           },
           {
            "bin_start": 50000.4188637218,
            "bin_end": 60000.33509097744,
            "count": 0
           },
           {
            "bin_start": 60000.33509097744,
            "bin_end": 70000.25131823307,
            "count": 0
           },
           {
            "bin_start": 70000.25131823307,
            "bin_end": 80000.16754548872,
            "count": 0
           },
           {
            "bin_start": 80000.16754548872,
            "bin_end": 90000.08377274436,
            "count": 0
           },
           {
            "bin_start": 90000.08377274436,
            "bin_end": 100000,
            "count": 1
           }
          ]
         }
        },
        {
         "name": "Age",
         "dtype": "float64",
         "stats": {
          "unique_count": 8,
          "nan_count": 0,
          "min": "0.08",
          "max": "96708.0",
          "histogram": [
           {
            "bin_start": 0.08,
            "bin_end": 9670.872,
            "count": 7
           },
           {
            "bin_start": 9670.872,
            "bin_end": 19341.664,
            "count": 0
           },
           {
            "bin_start": 19341.664,
            "bin_end": 29012.456,
            "count": 0
           },
           {
            "bin_start": 29012.456,
            "bin_end": 38683.248,
            "count": 0
           },
           {
            "bin_start": 38683.248,
            "bin_end": 48354.04,
            "count": 0
           },
           {
            "bin_start": 48354.04,
            "bin_end": 58024.831999999995,
            "count": 0
           },
           {
            "bin_start": 58024.831999999995,
            "bin_end": 67695.624,
            "count": 0
           },
           {
            "bin_start": 67695.624,
            "bin_end": 77366.416,
            "count": 0
           },
           {
            "bin_start": 77366.416,
            "bin_end": 87037.208,
            "count": 0
           },
           {
            "bin_start": 87037.208,
            "bin_end": 96708,
            "count": 1
           }
          ]
         }
        },
        {
         "name": "SibSp",
         "dtype": "float64",
         "stats": {
          "unique_count": 6,
          "nan_count": 0,
          "min": "0.0",
          "max": "100000.0",
          "histogram": [
           {
            "bin_start": 0,
            "bin_end": 10000,
            "count": 7
           },
           {
            "bin_start": 10000,
            "bin_end": 20000,
            "count": 0
           },
           {
            "bin_start": 20000,
            "bin_end": 30000,
            "count": 0
           },
           {
            "bin_start": 30000,
            "bin_end": 40000,
            "count": 0
           },
           {
            "bin_start": 40000,
            "bin_end": 50000,
            "count": 0
           },
           {
            "bin_start": 50000,
            "bin_end": 60000,
            "count": 0
           },
           {
            "bin_start": 60000,
            "bin_end": 70000,
            "count": 0
           },
           {
            "bin_start": 70000,
            "bin_end": 80000,
            "count": 0
           },
           {
            "bin_start": 80000,
            "bin_end": 90000,
            "count": 0
           },
           {
            "bin_start": 90000,
            "bin_end": 100000,
            "count": 1
           }
          ]
         }
        },
        {
         "name": "Parch",
         "dtype": "float64",
         "stats": {
          "unique_count": 6,
          "nan_count": 0,
          "min": "0.0",
          "max": "100000.0",
          "histogram": [
           {
            "bin_start": 0,
            "bin_end": 10000,
            "count": 7
           },
           {
            "bin_start": 10000,
            "bin_end": 20000,
            "count": 0
           },
           {
            "bin_start": 20000,
            "bin_end": 30000,
            "count": 0
           },
           {
            "bin_start": 30000,
            "bin_end": 40000,
            "count": 0
           },
           {
            "bin_start": 40000,
            "bin_end": 50000,
            "count": 0
           },
           {
            "bin_start": 50000,
            "bin_end": 60000,
            "count": 0
           },
           {
            "bin_start": 60000,
            "bin_end": 70000,
            "count": 0
           },
           {
            "bin_start": 70000,
            "bin_end": 80000,
            "count": 0
           },
           {
            "bin_start": 80000,
            "bin_end": 90000,
            "count": 0
           },
           {
            "bin_start": 90000,
            "bin_end": 100000,
            "count": 1
           }
          ]
         }
        },
        {
         "name": "Fare",
         "dtype": "float64",
         "stats": {
          "unique_count": 8,
          "nan_count": 0,
          "min": "0.68",
          "max": "99866.0",
          "histogram": [
           {
            "bin_start": 0.68,
            "bin_end": 9987.212000000001,
            "count": 7
           },
           {
            "bin_start": 9987.212000000001,
            "bin_end": 19973.744000000002,
            "count": 0
           },
           {
            "bin_start": 19973.744000000002,
            "bin_end": 29960.276000000005,
            "count": 0
           },
           {
            "bin_start": 29960.276000000005,
            "bin_end": 39946.808000000005,
            "count": 0
           },
           {
            "bin_start": 39946.808000000005,
            "bin_end": 49933.340000000004,
            "count": 0
           },
           {
            "bin_start": 49933.340000000004,
            "bin_end": 59919.87200000001,
            "count": 0
           },
           {
            "bin_start": 59919.87200000001,
            "bin_end": 69906.404,
            "count": 0
           },
           {
            "bin_start": 69906.404,
            "bin_end": 79892.936,
            "count": 0
           },
           {
            "bin_start": 79892.936,
            "bin_end": 89879.46800000001,
            "count": 0
           },
           {
            "bin_start": 89879.46800000001,
            "bin_end": 99866,
            "count": 1
           }
          ]
         }
        },
        {
         "name": "_deepnote_index_column",
         "dtype": "object"
        }
       ],
       "rows": [
        {
         "PassengerId": 100000,
         "Survived": 100000,
         "Pclass": 100000,
         "Age": 96708,
         "SibSp": 100000,
         "Parch": 100000,
         "Fare": 99866,
         "_deepnote_index_column": "count"
        },
        {
         "PassengerId": 49999.5,
         "Survived": 0.42774,
         "Pclass": 2.10691,
         "Age": 38.35547214294577,
         "SibSp": 0.39769,
         "Parch": 0.45456,
         "Fare": 43.92933040273968,
         "_deepnote_index_column": "mean"
        },
        {
         "PassengerId": 28867.65779668774,
         "Survived": 0.494753413539919,
         "Pclass": 0.8377274436072257,
         "Age": 18.31355571937529,
         "SibSp": 0.862565999852209,
         "Parch": 0.9500759089895545,
         "Fare": 69.58882046663858,
         "_deepnote_index_column": "std"
        },
        {
         "PassengerId": 0,
         "Survived": 0,
         "Pclass": 1,
         "Age": 0.08,
         "SibSp": 0,
         "Parch": 0,
         "Fare": 0.68,
         "_deepnote_index_column": "min"
        },
        {
         "PassengerId": 24999.75,
         "Survived": 0,
         "Pclass": 1,
         "Age": 25,
         "SibSp": 0,
         "Parch": 0,
         "Fare": 10.04,
         "_deepnote_index_column": "25%"
        },
        {
         "PassengerId": 49999.5,
         "Survived": 0,
         "Pclass": 2,
         "Age": 39,
         "SibSp": 0,
         "Parch": 0,
         "Fare": 24.46,
         "_deepnote_index_column": "50%"
        },
        {
         "PassengerId": 74999.25,
         "Survived": 1,
         "Pclass": 3,
         "Age": 53,
         "SibSp": 1,
         "Parch": 1,
         "Fare": 33.5,
         "_deepnote_index_column": "75%"
        },
        {
         "PassengerId": 99999,
         "Survived": 1,
         "Pclass": 3,
         "Age": 87,
         "SibSp": 8,
         "Parch": 9,
         "Fare": 744.66,
         "_deepnote_index_column": "max"
        }
       ]
      },
      "text/plain": "         PassengerId       Survived         Pclass           Age  \\\ncount  100000.000000  100000.000000  100000.000000  96708.000000   \nmean    49999.500000       0.427740       2.106910     38.355472   \nstd     28867.657797       0.494753       0.837727     18.313556   \nmin         0.000000       0.000000       1.000000      0.080000   \n25%     24999.750000       0.000000       1.000000     25.000000   \n50%     49999.500000       0.000000       2.000000     39.000000   \n75%     74999.250000       1.000000       3.000000     53.000000   \nmax     99999.000000       1.000000       3.000000     87.000000   \n\n               SibSp          Parch         Fare  \ncount  100000.000000  100000.000000  99866.00000  \nmean        0.397690       0.454560     43.92933  \nstd         0.862566       0.950076     69.58882  \nmin         0.000000       0.000000      0.68000  \n25%         0.000000       0.000000     10.04000  \n50%         0.000000       0.000000     24.46000  \n75%         1.000000       1.000000     33.50000  \nmax         8.000000       9.000000    744.66000  ",
      "text/html": "<div>\n<style scoped>\n    .dataframe tbody tr th:only-of-type {\n        vertical-align: middle;\n    }\n\n    .dataframe tbody tr th {\n        vertical-align: top;\n    }\n\n    .dataframe thead th {\n        text-align: right;\n    }\n</style>\n<table border=\"1\" class=\"dataframe\">\n  <thead>\n    <tr style=\"text-align: right;\">\n      <th></th>\n      <th>PassengerId</th>\n      <th>Survived</th>\n      <th>Pclass</th>\n      <th>Age</th>\n      <th>SibSp</th>\n      <th>Parch</th>\n      <th>Fare</th>\n    </tr>\n  </thead>\n  <tbody>\n    <tr>\n      <th>count</th>\n      <td>100000.000000</td>\n      <td>100000.000000</td>\n      <td>100000.000000</td>\n      <td>96708.000000</td>\n      <td>100000.000000</td>\n      <td>100000.000000</td>\n      <td>99866.00000</td>\n    </tr>\n    <tr>\n      <th>mean</th>\n      <td>49999.500000</td>\n      <td>0.427740</td>\n      <td>2.106910</td>\n      <td>38.355472</td>\n      <td>0.397690</td>\n      <td>0.454560</td>\n      <td>43.92933</td>\n    </tr>\n    <tr>\n      <th>std</th>\n      <td>28867.657797</td>\n      <td>0.494753</td>\n      <td>0.837727</td>\n      <td>18.313556</td>\n      <td>0.862566</td>\n      <td>0.950076</td>\n      <td>69.58882</td>\n    </tr>\n    <tr>\n      <th>min</th>\n      <td>0.000000</td>\n      <td>0.000000</td>\n      <td>1.000000</td>\n      <td>0.080000</td>\n      <td>0.000000</td>\n      <td>0.000000</td>\n      <td>0.68000</td>\n    </tr>\n    <tr>\n      <th>25%</th>\n      <td>24999.750000</td>\n      <td>0.000000</td>\n      <td>1.000000</td>\n      <td>25.000000</td>\n      <td>0.000000</td>\n      <td>0.000000</td>\n      <td>10.04000</td>\n    </tr>\n    <tr>\n      <th>50%</th>\n      <td>49999.500000</td>\n      <td>0.000000</td>\n      <td>2.000000</td>\n      <td>39.000000</td>\n      <td>0.000000</td>\n      <td>0.000000</td>\n      <td>24.46000</td>\n    </tr>\n    <tr>\n      <th>75%</th>\n      <td>74999.250000</td>\n      <td>1.000000</td>\n      <td>3.000000</td>\n      <td>53.000000</td>\n      <td>1.000000</td>\n      <td>1.000000</td>\n      <td>33.50000</td>\n    </tr>\n    <tr>\n      <th>max</th>\n      <td>99999.000000</td>\n      <td>1.000000</td>\n      <td>3.000000</td>\n      <td>87.000000</td>\n      <td>8.000000</td>\n      <td>9.000000</td>\n      <td>744.66000</td>\n    </tr>\n  </tbody>\n</table>\n</div>"
     },
     "metadata": {}
    }
   ],
   "execution_count": null
  },
  {
   "cell_type": "code",
   "metadata": {
    "tags": [],
    "cell_id": "00025-a75661dd-ec1f-49e3-94a7-6016b3c62b88",
    "deepnote_cell_type": "code"
   },
   "source": "",
   "execution_count": null,
   "outputs": []
  },
  {
   "cell_type": "markdown",
   "source": "### Examining relationship between variables\n\n    Boxplots\n    Heatmaps\n    Scatterplots",
   "metadata": {
    "tags": [],
    "cell_id": "00026-2124e1ec-7d32-454a-9c25-75258bf50d94",
    "deepnote_cell_type": "markdown"
   }
  },
  {
   "cell_type": "code",
   "metadata": {
    "tags": [],
    "deepnote_to_be_reexecuted": false,
    "source_hash": "2a012bef",
    "execution_start": 1646647566064,
    "execution_millis": 33,
    "cell_id": "00027-5f71b380-6467-4ff4-95bf-abadc8325b60",
    "deepnote_cell_type": "code"
   },
   "source": "print(\"---- survived by class and sex\")\nprint(df.groupby([\"Pclass\", \"Sex\"])[\"Survived\"].value_counts(normalize=True))",
   "outputs": [
    {
     "name": "stdout",
     "text": "---- survived by class and sex\nPclass  Sex     Survived\n1       female  1           0.768279\n                0           0.231721\n        male    0           0.633265\n                1           0.366735\n2       female  1           0.769024\n                0           0.230976\n        male    0           0.753359\n                1           0.246641\n3       female  1           0.568416\n                0           0.431584\n        male    0           0.893811\n                1           0.106189\nName: Survived, dtype: float64\n",
     "output_type": "stream"
    }
   ],
   "execution_count": null
  },
  {
   "cell_type": "code",
   "metadata": {
    "deepnote_to_be_reexecuted": false,
    "source_hash": "5a4337d0",
    "execution_start": 1646647435510,
    "execution_millis": 4924,
    "cell_id": "00028-aaccef78-19df-4bfa-af27-f978c98a497d",
    "deepnote_cell_type": "code"
   },
   "source": "sns.pairplot(df, vars=[\"Age\", \"Pclass\", \"Sex\"], hue=\"Survived\", dropna=True)\nsns.plt.show()",
   "outputs": [
    {
     "output_type": "error",
     "ename": "TypeError",
     "evalue": "The x variable is categorical, but one of ['numeric', 'datetime'] is required",
     "traceback": [
      "\u001b[0;31m---------------------------------------------------------------------------\u001b[0m",
      "\u001b[0;31mTypeError\u001b[0m                                 Traceback (most recent call last)",
      "\u001b[0;32m<ipython-input-29-7b59b144a42c>\u001b[0m in \u001b[0;36m<module>\u001b[0;34m\u001b[0m\n\u001b[0;32m----> 1\u001b[0;31m \u001b[0msns\u001b[0m\u001b[0;34m.\u001b[0m\u001b[0mpairplot\u001b[0m\u001b[0;34m(\u001b[0m\u001b[0mdf\u001b[0m\u001b[0;34m,\u001b[0m \u001b[0mvars\u001b[0m\u001b[0;34m=\u001b[0m\u001b[0;34m[\u001b[0m\u001b[0;34m\"Age\"\u001b[0m\u001b[0;34m,\u001b[0m \u001b[0;34m\"Pclass\"\u001b[0m\u001b[0;34m,\u001b[0m \u001b[0;34m\"Sex\"\u001b[0m\u001b[0;34m]\u001b[0m\u001b[0;34m,\u001b[0m \u001b[0mhue\u001b[0m\u001b[0;34m=\u001b[0m\u001b[0;34m\"Survived\"\u001b[0m\u001b[0;34m,\u001b[0m \u001b[0mdropna\u001b[0m\u001b[0;34m=\u001b[0m\u001b[0;32mTrue\u001b[0m\u001b[0;34m)\u001b[0m\u001b[0;34m\u001b[0m\u001b[0;34m\u001b[0m\u001b[0m\n\u001b[0m\u001b[1;32m      2\u001b[0m \u001b[0msns\u001b[0m\u001b[0;34m.\u001b[0m\u001b[0mplt\u001b[0m\u001b[0;34m.\u001b[0m\u001b[0mshow\u001b[0m\u001b[0;34m(\u001b[0m\u001b[0;34m)\u001b[0m\u001b[0;34m\u001b[0m\u001b[0;34m\u001b[0m\u001b[0m\n",
      "\u001b[0;32m/shared-libs/python3.7/py/lib/python3.7/site-packages/seaborn/_decorators.py\u001b[0m in \u001b[0;36minner_f\u001b[0;34m(*args, **kwargs)\u001b[0m\n\u001b[1;32m     44\u001b[0m             )\n\u001b[1;32m     45\u001b[0m         \u001b[0mkwargs\u001b[0m\u001b[0;34m.\u001b[0m\u001b[0mupdate\u001b[0m\u001b[0;34m(\u001b[0m\u001b[0;34m{\u001b[0m\u001b[0mk\u001b[0m\u001b[0;34m:\u001b[0m \u001b[0marg\u001b[0m \u001b[0;32mfor\u001b[0m \u001b[0mk\u001b[0m\u001b[0;34m,\u001b[0m \u001b[0marg\u001b[0m \u001b[0;32min\u001b[0m \u001b[0mzip\u001b[0m\u001b[0;34m(\u001b[0m\u001b[0msig\u001b[0m\u001b[0;34m.\u001b[0m\u001b[0mparameters\u001b[0m\u001b[0;34m,\u001b[0m \u001b[0margs\u001b[0m\u001b[0;34m)\u001b[0m\u001b[0;34m}\u001b[0m\u001b[0;34m)\u001b[0m\u001b[0;34m\u001b[0m\u001b[0;34m\u001b[0m\u001b[0m\n\u001b[0;32m---> 46\u001b[0;31m         \u001b[0;32mreturn\u001b[0m \u001b[0mf\u001b[0m\u001b[0;34m(\u001b[0m\u001b[0;34m**\u001b[0m\u001b[0mkwargs\u001b[0m\u001b[0;34m)\u001b[0m\u001b[0;34m\u001b[0m\u001b[0;34m\u001b[0m\u001b[0m\n\u001b[0m\u001b[1;32m     47\u001b[0m     \u001b[0;32mreturn\u001b[0m \u001b[0minner_f\u001b[0m\u001b[0;34m\u001b[0m\u001b[0;34m\u001b[0m\u001b[0m\n\u001b[1;32m     48\u001b[0m \u001b[0;34m\u001b[0m\u001b[0m\n",
      "\u001b[0;32m/shared-libs/python3.7/py/lib/python3.7/site-packages/seaborn/axisgrid.py\u001b[0m in \u001b[0;36mpairplot\u001b[0;34m(data, hue, hue_order, palette, vars, x_vars, y_vars, kind, diag_kind, markers, height, aspect, corner, dropna, plot_kws, diag_kws, grid_kws, size)\u001b[0m\n\u001b[1;32m   2128\u001b[0m         \u001b[0mdiag_kws\u001b[0m\u001b[0;34m.\u001b[0m\u001b[0msetdefault\u001b[0m\u001b[0;34m(\u001b[0m\u001b[0;34m\"fill\"\u001b[0m\u001b[0;34m,\u001b[0m \u001b[0;32mTrue\u001b[0m\u001b[0;34m)\u001b[0m\u001b[0;34m\u001b[0m\u001b[0;34m\u001b[0m\u001b[0m\n\u001b[1;32m   2129\u001b[0m         \u001b[0mdiag_kws\u001b[0m\u001b[0;34m.\u001b[0m\u001b[0msetdefault\u001b[0m\u001b[0;34m(\u001b[0m\u001b[0;34m\"warn_singular\"\u001b[0m\u001b[0;34m,\u001b[0m \u001b[0;32mFalse\u001b[0m\u001b[0;34m)\u001b[0m\u001b[0;34m\u001b[0m\u001b[0;34m\u001b[0m\u001b[0m\n\u001b[0;32m-> 2130\u001b[0;31m         \u001b[0mgrid\u001b[0m\u001b[0;34m.\u001b[0m\u001b[0mmap_diag\u001b[0m\u001b[0;34m(\u001b[0m\u001b[0mkdeplot\u001b[0m\u001b[0;34m,\u001b[0m \u001b[0;34m**\u001b[0m\u001b[0mdiag_kws\u001b[0m\u001b[0;34m)\u001b[0m\u001b[0;34m\u001b[0m\u001b[0;34m\u001b[0m\u001b[0m\n\u001b[0m\u001b[1;32m   2131\u001b[0m \u001b[0;34m\u001b[0m\u001b[0m\n\u001b[1;32m   2132\u001b[0m     \u001b[0;31m# Maybe plot on the off-diagonals\u001b[0m\u001b[0;34m\u001b[0m\u001b[0;34m\u001b[0m\u001b[0;34m\u001b[0m\u001b[0m\n",
      "\u001b[0;32m/shared-libs/python3.7/py/lib/python3.7/site-packages/seaborn/axisgrid.py\u001b[0m in \u001b[0;36mmap_diag\u001b[0;34m(self, func, **kwargs)\u001b[0m\n\u001b[1;32m   1476\u001b[0m             \u001b[0mplot_kwargs\u001b[0m\u001b[0;34m.\u001b[0m\u001b[0msetdefault\u001b[0m\u001b[0;34m(\u001b[0m\u001b[0;34m\"hue_order\"\u001b[0m\u001b[0;34m,\u001b[0m \u001b[0mself\u001b[0m\u001b[0;34m.\u001b[0m\u001b[0m_hue_order\u001b[0m\u001b[0;34m)\u001b[0m\u001b[0;34m\u001b[0m\u001b[0;34m\u001b[0m\u001b[0m\n\u001b[1;32m   1477\u001b[0m             \u001b[0mplot_kwargs\u001b[0m\u001b[0;34m.\u001b[0m\u001b[0msetdefault\u001b[0m\u001b[0;34m(\u001b[0m\u001b[0;34m\"palette\"\u001b[0m\u001b[0;34m,\u001b[0m \u001b[0mself\u001b[0m\u001b[0;34m.\u001b[0m\u001b[0m_orig_palette\u001b[0m\u001b[0;34m)\u001b[0m\u001b[0;34m\u001b[0m\u001b[0;34m\u001b[0m\u001b[0m\n\u001b[0;32m-> 1478\u001b[0;31m             \u001b[0mfunc\u001b[0m\u001b[0;34m(\u001b[0m\u001b[0mx\u001b[0m\u001b[0;34m=\u001b[0m\u001b[0mvector\u001b[0m\u001b[0;34m,\u001b[0m \u001b[0;34m**\u001b[0m\u001b[0mplot_kwargs\u001b[0m\u001b[0;34m)\u001b[0m\u001b[0;34m\u001b[0m\u001b[0;34m\u001b[0m\u001b[0m\n\u001b[0m\u001b[1;32m   1479\u001b[0m             \u001b[0max\u001b[0m\u001b[0;34m.\u001b[0m\u001b[0mlegend_\u001b[0m \u001b[0;34m=\u001b[0m \u001b[0;32mNone\u001b[0m\u001b[0;34m\u001b[0m\u001b[0;34m\u001b[0m\u001b[0m\n\u001b[1;32m   1480\u001b[0m \u001b[0;34m\u001b[0m\u001b[0m\n",
      "\u001b[0;32m/shared-libs/python3.7/py/lib/python3.7/site-packages/seaborn/_decorators.py\u001b[0m in \u001b[0;36minner_f\u001b[0;34m(*args, **kwargs)\u001b[0m\n\u001b[1;32m     44\u001b[0m             )\n\u001b[1;32m     45\u001b[0m         \u001b[0mkwargs\u001b[0m\u001b[0;34m.\u001b[0m\u001b[0mupdate\u001b[0m\u001b[0;34m(\u001b[0m\u001b[0;34m{\u001b[0m\u001b[0mk\u001b[0m\u001b[0;34m:\u001b[0m \u001b[0marg\u001b[0m \u001b[0;32mfor\u001b[0m \u001b[0mk\u001b[0m\u001b[0;34m,\u001b[0m \u001b[0marg\u001b[0m \u001b[0;32min\u001b[0m \u001b[0mzip\u001b[0m\u001b[0;34m(\u001b[0m\u001b[0msig\u001b[0m\u001b[0;34m.\u001b[0m\u001b[0mparameters\u001b[0m\u001b[0;34m,\u001b[0m \u001b[0margs\u001b[0m\u001b[0;34m)\u001b[0m\u001b[0;34m}\u001b[0m\u001b[0;34m)\u001b[0m\u001b[0;34m\u001b[0m\u001b[0;34m\u001b[0m\u001b[0m\n\u001b[0;32m---> 46\u001b[0;31m         \u001b[0;32mreturn\u001b[0m \u001b[0mf\u001b[0m\u001b[0;34m(\u001b[0m\u001b[0;34m**\u001b[0m\u001b[0mkwargs\u001b[0m\u001b[0;34m)\u001b[0m\u001b[0;34m\u001b[0m\u001b[0;34m\u001b[0m\u001b[0m\n\u001b[0m\u001b[1;32m     47\u001b[0m     \u001b[0;32mreturn\u001b[0m \u001b[0minner_f\u001b[0m\u001b[0;34m\u001b[0m\u001b[0;34m\u001b[0m\u001b[0m\n\u001b[1;32m     48\u001b[0m \u001b[0;34m\u001b[0m\u001b[0m\n",
      "\u001b[0;32m/shared-libs/python3.7/py/lib/python3.7/site-packages/seaborn/distributions.py\u001b[0m in \u001b[0;36mkdeplot\u001b[0;34m(x, y, shade, vertical, kernel, bw, gridsize, cut, clip, legend, cumulative, shade_lowest, cbar, cbar_ax, cbar_kws, ax, weights, hue, palette, hue_order, hue_norm, multiple, common_norm, common_grid, levels, thresh, bw_method, bw_adjust, log_scale, color, fill, data, data2, warn_singular, **kwargs)\u001b[0m\n\u001b[1;32m   1760\u001b[0m     )\n\u001b[1;32m   1761\u001b[0m \u001b[0;34m\u001b[0m\u001b[0m\n\u001b[0;32m-> 1762\u001b[0;31m     \u001b[0mp\u001b[0m\u001b[0;34m.\u001b[0m\u001b[0m_attach\u001b[0m\u001b[0;34m(\u001b[0m\u001b[0max\u001b[0m\u001b[0;34m,\u001b[0m \u001b[0mallowed_types\u001b[0m\u001b[0;34m=\u001b[0m\u001b[0;34m[\u001b[0m\u001b[0;34m\"numeric\"\u001b[0m\u001b[0;34m,\u001b[0m \u001b[0;34m\"datetime\"\u001b[0m\u001b[0;34m]\u001b[0m\u001b[0;34m,\u001b[0m \u001b[0mlog_scale\u001b[0m\u001b[0;34m=\u001b[0m\u001b[0mlog_scale\u001b[0m\u001b[0;34m)\u001b[0m\u001b[0;34m\u001b[0m\u001b[0;34m\u001b[0m\u001b[0m\n\u001b[0m\u001b[1;32m   1763\u001b[0m \u001b[0;34m\u001b[0m\u001b[0m\n\u001b[1;32m   1764\u001b[0m     \u001b[0;32mif\u001b[0m \u001b[0mp\u001b[0m\u001b[0;34m.\u001b[0m\u001b[0munivariate\u001b[0m\u001b[0;34m:\u001b[0m\u001b[0;34m\u001b[0m\u001b[0;34m\u001b[0m\u001b[0m\n",
      "\u001b[0;32m/shared-libs/python3.7/py/lib/python3.7/site-packages/seaborn/_core.py\u001b[0m in \u001b[0;36m_attach\u001b[0;34m(self, obj, allowed_types, log_scale)\u001b[0m\n\u001b[1;32m   1123\u001b[0m                     \u001b[0;34mf\"{allowed_types} is required\"\u001b[0m\u001b[0;34m\u001b[0m\u001b[0;34m\u001b[0m\u001b[0m\n\u001b[1;32m   1124\u001b[0m                 )\n\u001b[0;32m-> 1125\u001b[0;31m                 \u001b[0;32mraise\u001b[0m \u001b[0mTypeError\u001b[0m\u001b[0;34m(\u001b[0m\u001b[0merr\u001b[0m\u001b[0;34m)\u001b[0m\u001b[0;34m\u001b[0m\u001b[0;34m\u001b[0m\u001b[0m\n\u001b[0m\u001b[1;32m   1126\u001b[0m \u001b[0;34m\u001b[0m\u001b[0m\n\u001b[1;32m   1127\u001b[0m             \u001b[0;31m# Register with the matplotlib unit conversion machinery\u001b[0m\u001b[0;34m\u001b[0m\u001b[0;34m\u001b[0m\u001b[0;34m\u001b[0m\u001b[0m\n",
      "\u001b[0;31mTypeError\u001b[0m: The x variable is categorical, but one of ['numeric', 'datetime'] is required"
     ]
    },
    {
     "data": {
      "text/plain": "<Figure size 540x540 with 12 Axes>",
      "image/png": "[encoded data removed]"
     },
     "metadata": {
      "needs_background": "light",
      "image/png": {
       "width": 533,
       "height": 533
      }
     },
     "output_type": "display_data"
    }
   ],
   "execution_count": null
  },
  {
   "cell_type": "markdown",
   "source": "# Summary",
   "metadata": {
    "cell_id": "00029-77e14f22-5ce5-4fb9-8158-7854e8a145a8",
    "deepnote_cell_type": "markdown"
   }
  },
  {
   "cell_type": "code",
   "metadata": {
    "cell_id": "00030-e6f0a476-5b81-4650-8f8e-591437271069",
    "deepnote_cell_type": "code"
   },
   "source": "",
   "execution_count": null,
   "outputs": []
  },
  {
   "cell_type": "markdown",
   "source": "<a style='text-decoration:none;line-height:16px;display:flex;color:#5B5B62;padding:10px;justify-content:end;' href='https://deepnote.com?utm_source=created-in-deepnote-cell&projectId=ed60024c-3bce-4ff3-8f17-51e7b533774d' target=\"_blank\">\n<img alt='Created in deepnote.com' style='display:inline;max-height:16px;margin:0px;margin-right:7.5px;' src='data:image/svg+xml;base64,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' > </img>\nCreated in <span style='font-weight:600;margin-left:4px;'>Deepnote</span></a>",
   "metadata": {
    "tags": [],
    "created_in_deepnote_cell": true,
    "deepnote_cell_type": "markdown"
   }
  }
 ],
 "nbformat": 4,
 "nbformat_minor": 5,
 "metadata": {
  "kernelspec": {
   "display_name": "Python 3 (ipykernel)",
   "language": "python",
   "name": "python3"
  },
  "language_info": {
   "codemirror_mode": {
    "name": "ipython",
    "version": 3
   },
   "file_extension": ".py",
   "mimetype": "text/x-python",
   "name": "python",
   "nbconvert_exporter": "python",
   "pygments_lexer": "ipython3",
   "version": "3.8.12"
  },
  "toc": {
   "base_numbering": 1,
   "nav_menu": {},
   "number_sections": true,
   "sideBar": true,
   "skip_h1_title": false,
   "title_cell": "Table of Contents",
   "title_sidebar": "Contents",
   "toc_cell": false,
   "toc_position": {},
   "toc_section_display": true,
   "toc_window_display": false
  },
  "deepnote_notebook_id": "164b7e80-4e1e-4bf7-a1af-717a5237437a",
  "deepnote": {},
  "deepnote_execution_queue": []
 }
}